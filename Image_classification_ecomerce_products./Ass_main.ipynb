{
 "cells": [
  {
   "cell_type": "code",
   "execution_count": 1,
   "metadata": {},
   "outputs": [],
   "source": [
    "from img2vec.img_to_vec import Img2Vec\n",
    "from PIL import Image\n",
    "\n",
    "\n",
    "import warnings\n",
    "warnings.filterwarnings('ignore')\n",
    "\n",
    "import numpy as np\n",
    "import pandas as pd"
   ]
  },
  {
   "cell_type": "code",
   "execution_count": 2,
   "metadata": {},
   "outputs": [],
   "source": [
    "# loading Data\n",
    "# loadind data into pandas\n",
    "filename =\"/media/parth/New Volume/p_data/word2vec_test.csv\"\n",
    "\n",
    "data = pd.read_csv(filename,error_bad_lines=False)\n",
    "\n",
    "\n",
    "# removing extra string in the imageurl\n",
    "\n",
    "data['imageUrlStr'] = data['imageUrlStr'].str.split(';').str[0]\n",
    "\n",
    "# combining all the text into one column and droping the columns\n",
    "\n",
    "data['combined'] = data['imageUrlStr']+data['productBrand']+data['color']+data['keySpecsStr']+data['sellerName']\n",
    "data.drop(data.columns[[0,2,4,5,6,7,8,9,10]],inplace=True, axis=1)"
   ]
  },
  {
   "cell_type": "code",
   "execution_count": 3,
   "metadata": {},
   "outputs": [
    {
     "data": {
      "text/plain": [
       "(10000, 3)"
      ]
     },
     "execution_count": 3,
     "metadata": {},
     "output_type": "execute_result"
    }
   ],
   "source": [
    "#Taking 500 rows in the complete data set\n",
    "#data.shape"
   ]
  },
  {
   "cell_type": "code",
   "execution_count": 4,
   "metadata": {},
   "outputs": [
    {
     "data": {
      "text/html": [
       "<div>\n",
       "<style scoped>\n",
       "    .dataframe tbody tr th:only-of-type {\n",
       "        vertical-align: middle;\n",
       "    }\n",
       "\n",
       "    .dataframe tbody tr th {\n",
       "        vertical-align: top;\n",
       "    }\n",
       "\n",
       "    .dataframe thead th {\n",
       "        text-align: right;\n",
       "    }\n",
       "</style>\n",
       "<table border=\"1\" class=\"dataframe\">\n",
       "  <thead>\n",
       "    <tr style=\"text-align: right;\">\n",
       "      <th></th>\n",
       "      <th>productId</th>\n",
       "      <th>imageUrlStr</th>\n",
       "      <th>combined</th>\n",
       "    </tr>\n",
       "  </thead>\n",
       "  <tbody>\n",
       "    <tr>\n",
       "      <th>0</th>\n",
       "      <td>TOPE9ABBZU3HZRHN</td>\n",
       "      <td>http://img.fkcdn.com/image/top/r/h/n/1-1-wwtpw...</td>\n",
       "      <td>http://img.fkcdn.com/image/top/r/h/n/1-1-wwtpw...</td>\n",
       "    </tr>\n",
       "    <tr>\n",
       "      <th>1</th>\n",
       "      <td>TOPE9ABBBTJYDSQE</td>\n",
       "      <td>http://img.fkcdn.com/image/top/r/h/n/1-1-wwtpw...</td>\n",
       "      <td>http://img.fkcdn.com/image/top/r/h/n/1-1-wwtpw...</td>\n",
       "    </tr>\n",
       "    <tr>\n",
       "      <th>2</th>\n",
       "      <td>TOPE9AZZSMSZFYAM</td>\n",
       "      <td>http://img.fkcdn.com/image/top/y/a/m/1-1-10009...</td>\n",
       "      <td>http://img.fkcdn.com/image/top/y/a/m/1-1-10009...</td>\n",
       "    </tr>\n",
       "    <tr>\n",
       "      <th>3</th>\n",
       "      <td>TOPE6ZCYFCQ3H6EV</td>\n",
       "      <td>http://img.fkcdn.com/image/top/6/e/v/1-1-newds...</td>\n",
       "      <td>http://img.fkcdn.com/image/top/6/e/v/1-1-newds...</td>\n",
       "    </tr>\n",
       "    <tr>\n",
       "      <th>4</th>\n",
       "      <td>TOPE6ZCYHTJEMZMW</td>\n",
       "      <td>http://img.fkcdn.com/image/top/x/7/r/1-1-newds...</td>\n",
       "      <td>http://img.fkcdn.com/image/top/x/7/r/1-1-newds...</td>\n",
       "    </tr>\n",
       "  </tbody>\n",
       "</table>\n",
       "</div>"
      ],
      "text/plain": [
       "          productId                                        imageUrlStr  \\\n",
       "0  TOPE9ABBZU3HZRHN  http://img.fkcdn.com/image/top/r/h/n/1-1-wwtpw...   \n",
       "1  TOPE9ABBBTJYDSQE  http://img.fkcdn.com/image/top/r/h/n/1-1-wwtpw...   \n",
       "2  TOPE9AZZSMSZFYAM  http://img.fkcdn.com/image/top/y/a/m/1-1-10009...   \n",
       "3  TOPE6ZCYFCQ3H6EV  http://img.fkcdn.com/image/top/6/e/v/1-1-newds...   \n",
       "4  TOPE6ZCYHTJEMZMW  http://img.fkcdn.com/image/top/x/7/r/1-1-newds...   \n",
       "\n",
       "                                            combined  \n",
       "0  http://img.fkcdn.com/image/top/r/h/n/1-1-wwtpw...  \n",
       "1  http://img.fkcdn.com/image/top/r/h/n/1-1-wwtpw...  \n",
       "2  http://img.fkcdn.com/image/top/y/a/m/1-1-10009...  \n",
       "3  http://img.fkcdn.com/image/top/6/e/v/1-1-newds...  \n",
       "4  http://img.fkcdn.com/image/top/x/7/r/1-1-newds...  "
      ]
     },
     "execution_count": 4,
     "metadata": {},
     "output_type": "execute_result"
    }
   ],
   "source": [
    "data.head()"
   ]
  },
  {
   "cell_type": "code",
   "execution_count": 5,
   "metadata": {},
   "outputs": [],
   "source": [
    "data_10=data[:100]"
   ]
  },
  {
   "cell_type": "code",
   "execution_count": 6,
   "metadata": {},
   "outputs": [],
   "source": [
    "# using the image to vector code as library\n",
    "\n",
    "img2vec = Img2Vec(cuda=True)\n",
    "\n",
    "from sklearn.feature_extraction.text import CountVectorizer\n",
    "from sklearn.metrics.pairwise import cosine_similarity\n",
    "\n",
    "from random import randint\n",
    "from time import sleep\n",
    "\n",
    "#import IPython\n",
    "#from IPython.display import Image\n",
    "#from IPython.display import display\n",
    "import urllib.request\n",
    "import io"
   ]
  },
  {
   "cell_type": "code",
   "execution_count": 7,
   "metadata": {},
   "outputs": [],
   "source": [
    "# writing a function to real the imageurl and output image \n",
    "\n",
    "def openurl(urls):\n",
    "    fd = urllib.request.urlopen(urls)\n",
    "    sleep(randint(0,2))\n",
    "    image_file = io.BytesIO(fd.read())\n",
    "    return Image.open(image_file)\n",
    "\n",
    "\n",
    "# converting the read images to vector form and extracting the 512 length array.\n",
    "data_10['vector'] = data_10.apply(lambda x: img2vec.get_vec(openurl(x['imageUrlStr'])),axis=1)\n"
   ]
  },
  {
   "cell_type": "code",
   "execution_count": null,
   "metadata": {},
   "outputs": [],
   "source": [
    "# checking the shape of the output vector data\n",
    "data_10['vector'].shape"
   ]
  },
  {
   "cell_type": "code",
   "execution_count": 8,
   "metadata": {},
   "outputs": [],
   "source": [
    "# Here we compare the cosine similaritybetween the image vector\n",
    "# after comparing taking the productid as a key and append the similar imageids to it\n",
    "\n",
    "data_dict = dict()\n",
    "\n",
    "for i in range(len(data_10['vector'])):\n",
    "    for j in range(i,len(data_10['vector'])):\n",
    "        if i !=j:\n",
    "            similarity = cosine_similarity(data_10['vector'][i].reshape(1,-1),data_10['vector'][j].reshape(1,-1))\n",
    "            if similarity >0.99:\n",
    "                if data_10['productId'][i] in data_dict:\n",
    "                    data_dict[data_10['productId'][i]].append(data_10['productId'][j])\n",
    "                else:\n",
    "                    data_dict[data_10['productId'][i]] = [data_10['productId'][j]]\n"
   ]
  },
  {
   "cell_type": "code",
   "execution_count": 9,
   "metadata": {},
   "outputs": [
    {
     "name": "stdout",
     "output_type": "stream",
     "text": [
      "{'TOPE9ABBZU3HZRHN': ['TOPE9ABBBTJYDSQE'], 'TOPE6ZCYHTJEMZMW': ['TOPE7GUGYEG7JKHJ', 'TOPE7GUGPZSJCHHX', 'TOPE7GUGY65MGPGJ'], 'TOPE6XZPXBP5APH9': ['TOPE6XZPRUAFWPBH'], 'TOPE7CD4ETPFHCDX': ['TOPE7CD4FZXYEY2F'], 'TOPE8M6R2XZCZG8Z': ['TOPE8M6RMN7SBFVG'], 'TOPE7G33SDEZT283': ['TOPE7U8MHWPSWNH2'], 'TOPE7G33BKEXZZHT': ['TOPE7U8MTATAGP5P', 'TOPE7U8MSDMAP6FE'], 'TOPEF2HAJZ5PAXY6': ['TOPEF2HA7XH6TEEZ'], 'TOPE7U8MFBZXJZQX': ['TOPE7U8MEDJHMJDT'], 'TOPE6KWBB7GFT8ET': ['TOPE6KWB7QASBYVW'], 'TOPE6T9FGHWGTSB8': ['TOPE6T9FCG4FQGTC'], 'TOPE7G334D9WRSGP': ['TOPE7U8MN9PXFVG9', 'TOPE7U8M8DWXG8NY'], 'TOPE7U8MZFBHRHHP': ['TOPE7U8MGBCRV7QG', 'TOPE7U8MYVRRTMSU', 'TOPE7U8MVFCJB6Z3'], 'TOPE7U8MGBCRV7QG': ['TOPE7U8MYVRRTMSU', 'TOPE7U8MVFCJB6Z3'], 'TOPE7U8MYVRRTMSU': ['TOPE7U8MVFCJB6Z3'], 'TOPE6ZCKD9APZWXF': ['TOPE6ZCKPPPAR7GF', 'TOPE6ZCKZSURA2HU'], 'TOPE6ZCKPPPAR7GF': ['TOPE6ZCKZSURA2HU'], 'TOPE7U8MTATAGP5P': ['TOPE7U8MSDMAP6FE'], 'TOPE7U8MN9PXFVG9': ['TOPE7U8M8DWXG8NY'], 'TOPE7GUGYEG7JKHJ': ['TOPE7GUGPZSJCHHX', 'TOPE7GUGY65MGPGJ'], 'TOPE7GUGPZSJCHHX': ['TOPE7GUGY65MGPGJ'], 'TOPE5K6B7JKVT2XJ': ['TOPE5K6BAUP9BRCQ'], 'TOPE5K6BHB8ZJXMH': ['TOPE5K6BMMG5YJJJ'], 'TOPE6P4H9EEZEX3N': ['TOPE6P4HZGHSUWWN'], 'TOPDY2PBFRHEC8VR': ['TOPDY2PB5GW7SVZU']}\n"
     ]
    }
   ],
   "source": [
    "# view the dictionary file\n",
    "print(data_dict)"
   ]
  },
  {
   "cell_type": "code",
   "execution_count": 10,
   "metadata": {},
   "outputs": [],
   "source": [
    "# this piece of code is to view the images\n",
    "\n",
    "import IPython\n",
    "from IPython.display import Image\n",
    "from IPython.display import display\n",
    "\n",
    "#for i,urls in enumerate(data_10['imageUrlStr']):\n",
    "#    display(Image(urls, width=50), i,data_10['productId'][i])"
   ]
  },
  {
   "cell_type": "code",
   "execution_count": 12,
   "metadata": {},
   "outputs": [],
   "source": [
    "## this piece of code is to see the images that are same by key and value\n",
    "\n",
    "import IPython\n",
    "from IPython.display import Image\n",
    "from IPython.display import display\n",
    "\n",
    "\n",
    "listof = [\"TOPE7U8MGBCRV7QG\",\"TOPE7U8MYVRRTMSU\", \"TOPE7U8MVFCJB6Z3\"]\n",
    "\n",
    "y = data[data['productId'].isin(listof)]\n",
    "\n",
    "#for urls in y['imageUrlStr']:\n",
    "#    display(Image(urls, width=50))\n",
    "#y['imageUrlStr'][80]"
   ]
  },
  {
   "cell_type": "code",
   "execution_count": 13,
   "metadata": {},
   "outputs": [],
   "source": [
    "## writing the dictionary into output\n",
    "import json\n",
    "with open('data_10.json', 'w') as outfile:\n",
    "    json.dump(data_dict, outfile)"
   ]
  },
  {
   "cell_type": "code",
   "execution_count": null,
   "metadata": {},
   "outputs": [],
   "source": [
    "@@\n",
    "# I consered only 500 rows because i was facing the issues with the http 503 request errors.\n",
    "# The is a high scope for optimising this code and solve in better ways with a bit of research."
   ]
  },
  {
   "cell_type": "code",
   "execution_count": 4,
   "metadata": {},
   "outputs": [
    {
     "ename": "SyntaxError",
     "evalue": "invalid syntax (<ipython-input-4-7782947be4ce>, line 1)",
     "output_type": "error",
     "traceback": [
      "\u001b[0;36m  File \u001b[0;32m\"<ipython-input-4-7782947be4ce>\"\u001b[0;36m, line \u001b[0;32m1\u001b[0m\n\u001b[0;31m    jupyter nbconvert Ass_main.ipynb --to python\u001b[0m\n\u001b[0m                    ^\u001b[0m\n\u001b[0;31mSyntaxError\u001b[0m\u001b[0;31m:\u001b[0m invalid syntax\n"
     ]
    }
   ],
   "source": [
    "jupyter nbconvert /home/parth/Assignment/Image_classification_ecomerce_products./Ass_main.ipynb --to python"
   ]
  },
  {
   "cell_type": "code",
   "execution_count": null,
   "metadata": {},
   "outputs": [],
   "source": []
  }
 ],
 "metadata": {
  "kernelspec": {
   "display_name": "Python 3",
   "language": "python",
   "name": "python3"
  },
  "language_info": {
   "codemirror_mode": {
    "name": "ipython",
    "version": 3
   },
   "file_extension": ".py",
   "mimetype": "text/x-python",
   "name": "python",
   "nbconvert_exporter": "python",
   "pygments_lexer": "ipython3",
   "version": "3.6.4"
  }
 },
 "nbformat": 4,
 "nbformat_minor": 2
}
